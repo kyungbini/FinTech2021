{
  "nbformat": 4,
  "nbformat_minor": 0,
  "metadata": {
    "colab": {
      "name": "Untitled2.ipynb의 사본",
      "provenance": [],
      "collapsed_sections": [],
      "toc_visible": true
    },
    "kernelspec": {
      "name": "python3",
      "display_name": "Python 3"
    }
  },
  "cells": [
    {
      "cell_type": "markdown",
      "metadata": {
        "id": "Ax95_BUc0rka"
      },
      "source": [
        "# ML_day2"
      ]
    },
    {
      "cell_type": "markdown",
      "metadata": {
        "id": "9wj6KRyI0oWt"
      },
      "source": [
        "# Colab에서 실행하기"
      ]
    },
    {
      "cell_type": "markdown",
      "metadata": {
        "id": "1skWW5Ak0l5r"
      },
      "source": [
        "https://colab.research.google.com/github/SLCFLAB/FinTech2021/blob/main/ML_day2.ipynb"
      ]
    },
    {
      "cell_type": "code",
      "metadata": {
        "id": "MQXmqljnyMVx"
      },
      "source": [
        "import numpy as np\n",
        "import matplotlib as mpl\n",
        "import matplotlib.pyplot as plt\n",
        "import pandas as pd"
      ],
      "execution_count": 56,
      "outputs": []
    },
    {
      "cell_type": "markdown",
      "metadata": {
        "id": "1TP2gVKf6kTR"
      },
      "source": [
        "## Regression 전에 데이터 특성 살펴보기"
      ]
    },
    {
      "cell_type": "code",
      "metadata": {
        "id": "HDLGIClNyVhA",
        "colab": {
          "base_uri": "https://localhost:8080/",
          "height": 224
        },
        "outputId": "c4fd9f19-151d-4c77-e1e3-d611bbcf89a7"
      },
      "source": [
        "housing = pd.read_csv(\"./housing.csv\")\n",
        "housing.head()"
      ],
      "execution_count": 57,
      "outputs": [
        {
          "output_type": "execute_result",
          "data": {
            "text/html": [
              "<div>\n",
              "<style scoped>\n",
              "    .dataframe tbody tr th:only-of-type {\n",
              "        vertical-align: middle;\n",
              "    }\n",
              "\n",
              "    .dataframe tbody tr th {\n",
              "        vertical-align: top;\n",
              "    }\n",
              "\n",
              "    .dataframe thead th {\n",
              "        text-align: right;\n",
              "    }\n",
              "</style>\n",
              "<table border=\"1\" class=\"dataframe\">\n",
              "  <thead>\n",
              "    <tr style=\"text-align: right;\">\n",
              "      <th></th>\n",
              "      <th>longitude</th>\n",
              "      <th>latitude</th>\n",
              "      <th>housing_median_age</th>\n",
              "      <th>total_rooms</th>\n",
              "      <th>total_bedrooms</th>\n",
              "      <th>population</th>\n",
              "      <th>households</th>\n",
              "      <th>median_income</th>\n",
              "      <th>median_house_value</th>\n",
              "      <th>ocean_proximity</th>\n",
              "    </tr>\n",
              "  </thead>\n",
              "  <tbody>\n",
              "    <tr>\n",
              "      <th>0</th>\n",
              "      <td>-122.23</td>\n",
              "      <td>37.88</td>\n",
              "      <td>41.0</td>\n",
              "      <td>880.0</td>\n",
              "      <td>129.0</td>\n",
              "      <td>322.0</td>\n",
              "      <td>126.0</td>\n",
              "      <td>8.3252</td>\n",
              "      <td>452600.0</td>\n",
              "      <td>NEAR BAY</td>\n",
              "    </tr>\n",
              "    <tr>\n",
              "      <th>1</th>\n",
              "      <td>-122.22</td>\n",
              "      <td>37.86</td>\n",
              "      <td>21.0</td>\n",
              "      <td>7099.0</td>\n",
              "      <td>1106.0</td>\n",
              "      <td>2401.0</td>\n",
              "      <td>1138.0</td>\n",
              "      <td>8.3014</td>\n",
              "      <td>358500.0</td>\n",
              "      <td>NEAR BAY</td>\n",
              "    </tr>\n",
              "    <tr>\n",
              "      <th>2</th>\n",
              "      <td>-122.24</td>\n",
              "      <td>37.85</td>\n",
              "      <td>52.0</td>\n",
              "      <td>1467.0</td>\n",
              "      <td>190.0</td>\n",
              "      <td>496.0</td>\n",
              "      <td>177.0</td>\n",
              "      <td>7.2574</td>\n",
              "      <td>352100.0</td>\n",
              "      <td>NEAR BAY</td>\n",
              "    </tr>\n",
              "    <tr>\n",
              "      <th>3</th>\n",
              "      <td>-122.25</td>\n",
              "      <td>37.85</td>\n",
              "      <td>52.0</td>\n",
              "      <td>1274.0</td>\n",
              "      <td>235.0</td>\n",
              "      <td>558.0</td>\n",
              "      <td>219.0</td>\n",
              "      <td>5.6431</td>\n",
              "      <td>341300.0</td>\n",
              "      <td>NEAR BAY</td>\n",
              "    </tr>\n",
              "    <tr>\n",
              "      <th>4</th>\n",
              "      <td>-122.25</td>\n",
              "      <td>37.85</td>\n",
              "      <td>52.0</td>\n",
              "      <td>1627.0</td>\n",
              "      <td>280.0</td>\n",
              "      <td>565.0</td>\n",
              "      <td>259.0</td>\n",
              "      <td>3.8462</td>\n",
              "      <td>342200.0</td>\n",
              "      <td>NEAR BAY</td>\n",
              "    </tr>\n",
              "  </tbody>\n",
              "</table>\n",
              "</div>"
            ],
            "text/plain": [
              "   longitude  latitude  ...  median_house_value  ocean_proximity\n",
              "0    -122.23     37.88  ...            452600.0         NEAR BAY\n",
              "1    -122.22     37.86  ...            358500.0         NEAR BAY\n",
              "2    -122.24     37.85  ...            352100.0         NEAR BAY\n",
              "3    -122.25     37.85  ...            341300.0         NEAR BAY\n",
              "4    -122.25     37.85  ...            342200.0         NEAR BAY\n",
              "\n",
              "[5 rows x 10 columns]"
            ]
          },
          "metadata": {
            "tags": []
          },
          "execution_count": 57
        }
      ]
    },
    {
      "cell_type": "code",
      "metadata": {
        "id": "b_Km3H-Cypaw",
        "colab": {
          "base_uri": "https://localhost:8080/"
        },
        "outputId": "30a963f8-0ef8-4412-ff43-73b358b9b560"
      },
      "source": [
        "housing[\"ocean_proximity\"].value_counts()"
      ],
      "execution_count": 6,
      "outputs": [
        {
          "output_type": "execute_result",
          "data": {
            "text/plain": [
              "<1H OCEAN     7299\n",
              "INLAND        4929\n",
              "NEAR OCEAN    1489\n",
              "NEAR BAY      1487\n",
              "ISLAND           5\n",
              "Name: ocean_proximity, dtype: int64"
            ]
          },
          "metadata": {
            "tags": []
          },
          "execution_count": 6
        }
      ]
    },
    {
      "cell_type": "code",
      "metadata": {
        "id": "iq_vHB09yrL4",
        "colab": {
          "base_uri": "https://localhost:8080/",
          "height": 317
        },
        "outputId": "ec533c58-1efc-4278-a5a9-a496859cfa6d"
      },
      "source": [
        "housing.describe()"
      ],
      "execution_count": 7,
      "outputs": [
        {
          "output_type": "execute_result",
          "data": {
            "text/html": [
              "<div>\n",
              "<style scoped>\n",
              "    .dataframe tbody tr th:only-of-type {\n",
              "        vertical-align: middle;\n",
              "    }\n",
              "\n",
              "    .dataframe tbody tr th {\n",
              "        vertical-align: top;\n",
              "    }\n",
              "\n",
              "    .dataframe thead th {\n",
              "        text-align: right;\n",
              "    }\n",
              "</style>\n",
              "<table border=\"1\" class=\"dataframe\">\n",
              "  <thead>\n",
              "    <tr style=\"text-align: right;\">\n",
              "      <th></th>\n",
              "      <th>longitude</th>\n",
              "      <th>latitude</th>\n",
              "      <th>housing_median_age</th>\n",
              "      <th>total_rooms</th>\n",
              "      <th>total_bedrooms</th>\n",
              "      <th>population</th>\n",
              "      <th>households</th>\n",
              "      <th>median_income</th>\n",
              "      <th>median_house_value</th>\n",
              "    </tr>\n",
              "  </thead>\n",
              "  <tbody>\n",
              "    <tr>\n",
              "      <th>count</th>\n",
              "      <td>15210.000000</td>\n",
              "      <td>15210.000000</td>\n",
              "      <td>15210.000000</td>\n",
              "      <td>15210.000000</td>\n",
              "      <td>15062.000000</td>\n",
              "      <td>15210.000000</td>\n",
              "      <td>15210.000000</td>\n",
              "      <td>15210.000000</td>\n",
              "      <td>15210.000000</td>\n",
              "    </tr>\n",
              "    <tr>\n",
              "      <th>mean</th>\n",
              "      <td>-119.013605</td>\n",
              "      <td>35.157512</td>\n",
              "      <td>28.958909</td>\n",
              "      <td>2639.069954</td>\n",
              "      <td>543.708405</td>\n",
              "      <td>1443.109467</td>\n",
              "      <td>502.916568</td>\n",
              "      <td>3.803106</td>\n",
              "      <td>198435.696187</td>\n",
              "    </tr>\n",
              "    <tr>\n",
              "      <th>std</th>\n",
              "      <td>1.840608</td>\n",
              "      <td>2.049149</td>\n",
              "      <td>12.366761</td>\n",
              "      <td>2266.803851</td>\n",
              "      <td>437.779990</td>\n",
              "      <td>1142.507915</td>\n",
              "      <td>394.184695</td>\n",
              "      <td>1.888558</td>\n",
              "      <td>111404.650522</td>\n",
              "    </tr>\n",
              "    <tr>\n",
              "      <th>min</th>\n",
              "      <td>-124.350000</td>\n",
              "      <td>32.540000</td>\n",
              "      <td>1.000000</td>\n",
              "      <td>2.000000</td>\n",
              "      <td>2.000000</td>\n",
              "      <td>3.000000</td>\n",
              "      <td>2.000000</td>\n",
              "      <td>0.499900</td>\n",
              "      <td>23.000000</td>\n",
              "    </tr>\n",
              "    <tr>\n",
              "      <th>25%</th>\n",
              "      <td>-120.380000</td>\n",
              "      <td>33.870000</td>\n",
              "      <td>19.000000</td>\n",
              "      <td>1430.000000</td>\n",
              "      <td>295.000000</td>\n",
              "      <td>791.000000</td>\n",
              "      <td>278.000000</td>\n",
              "      <td>2.510175</td>\n",
              "      <td>116700.000000</td>\n",
              "    </tr>\n",
              "    <tr>\n",
              "      <th>50%</th>\n",
              "      <td>-118.280000</td>\n",
              "      <td>34.080000</td>\n",
              "      <td>30.000000</td>\n",
              "      <td>2092.000000</td>\n",
              "      <td>433.000000</td>\n",
              "      <td>1167.000000</td>\n",
              "      <td>407.000000</td>\n",
              "      <td>3.454250</td>\n",
              "      <td>170700.000000</td>\n",
              "    </tr>\n",
              "    <tr>\n",
              "      <th>75%</th>\n",
              "      <td>-117.900000</td>\n",
              "      <td>36.950000</td>\n",
              "      <td>37.000000</td>\n",
              "      <td>3107.000000</td>\n",
              "      <td>648.000000</td>\n",
              "      <td>1742.000000</td>\n",
              "      <td>602.000000</td>\n",
              "      <td>4.660575</td>\n",
              "      <td>245775.000000</td>\n",
              "    </tr>\n",
              "    <tr>\n",
              "      <th>max</th>\n",
              "      <td>-114.310000</td>\n",
              "      <td>41.950000</td>\n",
              "      <td>52.000000</td>\n",
              "      <td>39320.000000</td>\n",
              "      <td>6445.000000</td>\n",
              "      <td>28566.000000</td>\n",
              "      <td>6082.000000</td>\n",
              "      <td>15.000100</td>\n",
              "      <td>500001.000000</td>\n",
              "    </tr>\n",
              "  </tbody>\n",
              "</table>\n",
              "</div>"
            ],
            "text/plain": [
              "          longitude      latitude  ...  median_income  median_house_value\n",
              "count  15210.000000  15210.000000  ...   15210.000000        15210.000000\n",
              "mean    -119.013605     35.157512  ...       3.803106       198435.696187\n",
              "std        1.840608      2.049149  ...       1.888558       111404.650522\n",
              "min     -124.350000     32.540000  ...       0.499900           23.000000\n",
              "25%     -120.380000     33.870000  ...       2.510175       116700.000000\n",
              "50%     -118.280000     34.080000  ...       3.454250       170700.000000\n",
              "75%     -117.900000     36.950000  ...       4.660575       245775.000000\n",
              "max     -114.310000     41.950000  ...      15.000100       500001.000000\n",
              "\n",
              "[8 rows x 9 columns]"
            ]
          },
          "metadata": {
            "tags": []
          },
          "execution_count": 7
        }
      ]
    },
    {
      "cell_type": "code",
      "metadata": {
        "id": "XQPVdE_sysfA",
        "colab": {
          "base_uri": "https://localhost:8080/",
          "height": 707
        },
        "outputId": "b5a24a51-fec7-45a0-a8c3-340e6e3b79d8"
      },
      "source": [
        "housing.hist(bins=50, figsize=(20,15))\n",
        "plt.show()"
      ],
      "execution_count": 8,
      "outputs": [
        {
          "output_type": "display_data",
          "data": {
            "image/png": "[encoded data removed]",
            "text/plain": [
              "<Figure size 1440x1080 with 9 Axes>"
            ]
          },
          "metadata": {
            "tags": [],
            "needs_background": "light"
          }
        }
      ]
    },
    {
      "cell_type": "code",
      "metadata": {
        "id": "agae7K16zZ9I",
        "colab": {
          "base_uri": "https://localhost:8080/",
          "height": 282
        },
        "outputId": "19b0d6fe-424d-4662-892e-8fa60ce8b359"
      },
      "source": [
        "housing[\"median_income\"].hist()"
      ],
      "execution_count": 9,
      "outputs": [
        {
          "output_type": "execute_result",
          "data": {
            "text/plain": [
              "<matplotlib.axes._subplots.AxesSubplot at 0x7f99c87131d0>"
            ]
          },
          "metadata": {
            "tags": []
          },
          "execution_count": 9
        },
        {
          "output_type": "display_data",
          "data": {
            "image/png": "[encoded data removed]",
            "text/plain": [
              "<Figure size 432x288 with 1 Axes>"
            ]
          },
          "metadata": {
            "tags": [],
            "needs_background": "light"
          }
        }
      ]
    },
    {
      "cell_type": "code",
      "metadata": {
        "id": "3QFi8ikN1RoA"
      },
      "source": [
        "corr_matrix = housing.corr()"
      ],
      "execution_count": 10,
      "outputs": []
    },
    {
      "cell_type": "code",
      "metadata": {
        "colab": {
          "base_uri": "https://localhost:8080/",
          "height": 348
        },
        "id": "KkVSEpuo1oRN",
        "outputId": "f11832e8-30a5-490f-8ab8-4fdd4eba1238"
      },
      "source": [
        "corr_matrix"
      ],
      "execution_count": 11,
      "outputs": [
        {
          "output_type": "execute_result",
          "data": {
            "text/html": [
              "<div>\n",
              "<style scoped>\n",
              "    .dataframe tbody tr th:only-of-type {\n",
              "        vertical-align: middle;\n",
              "    }\n",
              "\n",
              "    .dataframe tbody tr th {\n",
              "        vertical-align: top;\n",
              "    }\n",
              "\n",
              "    .dataframe thead th {\n",
              "        text-align: right;\n",
              "    }\n",
              "</style>\n",
              "<table border=\"1\" class=\"dataframe\">\n",
              "  <thead>\n",
              "    <tr style=\"text-align: right;\">\n",
              "      <th></th>\n",
              "      <th>longitude</th>\n",
              "      <th>latitude</th>\n",
              "      <th>housing_median_age</th>\n",
              "      <th>total_rooms</th>\n",
              "      <th>total_bedrooms</th>\n",
              "      <th>population</th>\n",
              "      <th>households</th>\n",
              "      <th>median_income</th>\n",
              "      <th>median_house_value</th>\n",
              "    </tr>\n",
              "  </thead>\n",
              "  <tbody>\n",
              "    <tr>\n",
              "      <th>longitude</th>\n",
              "      <td>1.000000</td>\n",
              "      <td>-0.930435</td>\n",
              "      <td>-0.081186</td>\n",
              "      <td>0.035471</td>\n",
              "      <td>0.065559</td>\n",
              "      <td>0.099139</td>\n",
              "      <td>0.054572</td>\n",
              "      <td>0.037959</td>\n",
              "      <td>0.078021</td>\n",
              "    </tr>\n",
              "    <tr>\n",
              "      <th>latitude</th>\n",
              "      <td>-0.930435</td>\n",
              "      <td>1.000000</td>\n",
              "      <td>-0.031497</td>\n",
              "      <td>-0.013397</td>\n",
              "      <td>-0.052162</td>\n",
              "      <td>-0.101685</td>\n",
              "      <td>-0.062405</td>\n",
              "      <td>-0.105180</td>\n",
              "      <td>-0.226672</td>\n",
              "    </tr>\n",
              "    <tr>\n",
              "      <th>housing_median_age</th>\n",
              "      <td>-0.081186</td>\n",
              "      <td>-0.031497</td>\n",
              "      <td>1.000000</td>\n",
              "      <td>-0.380050</td>\n",
              "      <td>-0.346868</td>\n",
              "      <td>-0.312717</td>\n",
              "      <td>-0.326337</td>\n",
              "      <td>-0.132122</td>\n",
              "      <td>0.067785</td>\n",
              "    </tr>\n",
              "    <tr>\n",
              "      <th>total_rooms</th>\n",
              "      <td>0.035471</td>\n",
              "      <td>-0.013397</td>\n",
              "      <td>-0.380050</td>\n",
              "      <td>1.000000</td>\n",
              "      <td>0.929554</td>\n",
              "      <td>0.859815</td>\n",
              "      <td>0.915375</td>\n",
              "      <td>0.212847</td>\n",
              "      <td>0.140808</td>\n",
              "    </tr>\n",
              "    <tr>\n",
              "      <th>total_bedrooms</th>\n",
              "      <td>0.065559</td>\n",
              "      <td>-0.052162</td>\n",
              "      <td>-0.346868</td>\n",
              "      <td>0.929554</td>\n",
              "      <td>1.000000</td>\n",
              "      <td>0.884828</td>\n",
              "      <td>0.977903</td>\n",
              "      <td>0.004213</td>\n",
              "      <td>0.053898</td>\n",
              "    </tr>\n",
              "    <tr>\n",
              "      <th>population</th>\n",
              "      <td>0.099139</td>\n",
              "      <td>-0.101685</td>\n",
              "      <td>-0.312717</td>\n",
              "      <td>0.859815</td>\n",
              "      <td>0.884828</td>\n",
              "      <td>1.000000</td>\n",
              "      <td>0.916217</td>\n",
              "      <td>0.008246</td>\n",
              "      <td>-0.021711</td>\n",
              "    </tr>\n",
              "    <tr>\n",
              "      <th>households</th>\n",
              "      <td>0.054572</td>\n",
              "      <td>-0.062405</td>\n",
              "      <td>-0.326337</td>\n",
              "      <td>0.915375</td>\n",
              "      <td>0.977903</td>\n",
              "      <td>0.916217</td>\n",
              "      <td>1.000000</td>\n",
              "      <td>0.024339</td>\n",
              "      <td>0.069840</td>\n",
              "    </tr>\n",
              "    <tr>\n",
              "      <th>median_income</th>\n",
              "      <td>0.037959</td>\n",
              "      <td>-0.105180</td>\n",
              "      <td>-0.132122</td>\n",
              "      <td>0.212847</td>\n",
              "      <td>0.004213</td>\n",
              "      <td>0.008246</td>\n",
              "      <td>0.024339</td>\n",
              "      <td>1.000000</td>\n",
              "      <td>0.696207</td>\n",
              "    </tr>\n",
              "    <tr>\n",
              "      <th>median_house_value</th>\n",
              "      <td>0.078021</td>\n",
              "      <td>-0.226672</td>\n",
              "      <td>0.067785</td>\n",
              "      <td>0.140808</td>\n",
              "      <td>0.053898</td>\n",
              "      <td>-0.021711</td>\n",
              "      <td>0.069840</td>\n",
              "      <td>0.696207</td>\n",
              "      <td>1.000000</td>\n",
              "    </tr>\n",
              "  </tbody>\n",
              "</table>\n",
              "</div>"
            ],
            "text/plain": [
              "                    longitude  latitude  ...  median_income  median_house_value\n",
              "longitude            1.000000 -0.930435  ...       0.037959            0.078021\n",
              "latitude            -0.930435  1.000000  ...      -0.105180           -0.226672\n",
              "housing_median_age  -0.081186 -0.031497  ...      -0.132122            0.067785\n",
              "total_rooms          0.035471 -0.013397  ...       0.212847            0.140808\n",
              "total_bedrooms       0.065559 -0.052162  ...       0.004213            0.053898\n",
              "population           0.099139 -0.101685  ...       0.008246           -0.021711\n",
              "households           0.054572 -0.062405  ...       0.024339            0.069840\n",
              "median_income        0.037959 -0.105180  ...       1.000000            0.696207\n",
              "median_house_value   0.078021 -0.226672  ...       0.696207            1.000000\n",
              "\n",
              "[9 rows x 9 columns]"
            ]
          },
          "metadata": {
            "tags": []
          },
          "execution_count": 11
        }
      ]
    },
    {
      "cell_type": "code",
      "metadata": {
        "colab": {
          "base_uri": "https://localhost:8080/",
          "height": 382
        },
        "id": "Ne0m7DuY3pst",
        "outputId": "e43769af-5f4a-4487-de3b-c30b15ab898e"
      },
      "source": [
        "import seaborn as sns\n",
        "sns.heatmap(corr_matrix)"
      ],
      "execution_count": 12,
      "outputs": [
        {
          "output_type": "execute_result",
          "data": {
            "text/plain": [
              "<matplotlib.axes._subplots.AxesSubplot at 0x7f99c933e7b8>"
            ]
          },
          "metadata": {
            "tags": []
          },
          "execution_count": 12
        },
        {
          "output_type": "display_data",
          "data": {
            "image/png": "[encoded data removed]",
            "text/plain": [
              "<Figure size 432x288 with 2 Axes>"
            ]
          },
          "metadata": {
            "tags": [],
            "needs_background": "light"
          }
        }
      ]
    },
    {
      "cell_type": "markdown",
      "metadata": {
        "id": "Y4m7prFp2Lz_"
      },
      "source": [
        "## Missing value"
      ]
    },
    {
      "cell_type": "code",
      "metadata": {
        "colab": {
          "base_uri": "https://localhost:8080/"
        },
        "id": "kz-IltNL5-N2",
        "outputId": "b703c690-fc05-4c96-ca7c-6c91c6df71ce"
      },
      "source": [
        "housing['total_bedrooms'].isna()"
      ],
      "execution_count": 21,
      "outputs": [
        {
          "output_type": "execute_result",
          "data": {
            "text/plain": [
              "0        False\n",
              "1        False\n",
              "2        False\n",
              "3        False\n",
              "4        False\n",
              "         ...  \n",
              "15205    False\n",
              "15206    False\n",
              "15207    False\n",
              "15208    False\n",
              "15209    False\n",
              "Name: total_bedrooms, Length: 15210, dtype: bool"
            ]
          },
          "metadata": {
            "tags": []
          },
          "execution_count": 21
        }
      ]
    },
    {
      "cell_type": "code",
      "metadata": {
        "colab": {
          "base_uri": "https://localhost:8080/"
        },
        "id": "vIAUvJT753QI",
        "outputId": "47cd03d2-f835-4c15-d1ed-956b9c4dfefc"
      },
      "source": [
        "housing['total_bedrooms'].isna().sum()"
      ],
      "execution_count": 22,
      "outputs": [
        {
          "output_type": "execute_result",
          "data": {
            "text/plain": [
              "148"
            ]
          },
          "metadata": {
            "tags": []
          },
          "execution_count": 22
        }
      ]
    },
    {
      "cell_type": "code",
      "metadata": {
        "id": "uB3jEJP_6B07"
      },
      "source": [
        "median = housing[\"total_bedrooms\"].median()\n",
        "housing[\"total_bedrooms\"].fillna(median, inplace=True)"
      ],
      "execution_count": 24,
      "outputs": []
    },
    {
      "cell_type": "code",
      "metadata": {
        "colab": {
          "base_uri": "https://localhost:8080/"
        },
        "id": "KROVeKH26LpK",
        "outputId": "6a95c943-4994-43d8-8f3e-1da3c76752fb"
      },
      "source": [
        "housing['total_bedrooms'].isna().sum()"
      ],
      "execution_count": 25,
      "outputs": [
        {
          "output_type": "execute_result",
          "data": {
            "text/plain": [
              "0"
            ]
          },
          "metadata": {
            "tags": []
          },
          "execution_count": 25
        }
      ]
    },
    {
      "cell_type": "markdown",
      "metadata": {
        "id": "C1Jr_4oK6VeT"
      },
      "source": [
        "## Linear Regression"
      ]
    },
    {
      "cell_type": "code",
      "metadata": {
        "id": "cVtzp0425yRL"
      },
      "source": [
        "housing = housing[['median_income', 'total_rooms', 'median_house_value']]"
      ],
      "execution_count": 58,
      "outputs": []
    },
    {
      "cell_type": "code",
      "metadata": {
        "id": "77HIlKui6glt"
      },
      "source": [
        "from sklearn.model_selection import train_test_split\n",
        "train_set, test_set = train_test_split(housing, test_size=0.2, random_state=42)"
      ],
      "execution_count": 62,
      "outputs": []
    },
    {
      "cell_type": "code",
      "metadata": {
        "id": "v04Um4UU7Fj3"
      },
      "source": [
        "X_train, y_train = train_set[['median_income', 'total_rooms']], train_set['median_house_value']\n",
        "X_train = np.array(X_train)\n",
        "y_train = np.array(y_train)"
      ],
      "execution_count": 63,
      "outputs": []
    },
    {
      "cell_type": "code",
      "metadata": {
        "id": "karV9BXE5mGH",
        "colab": {
          "base_uri": "https://localhost:8080/"
        },
        "outputId": "88a2f324-5d0f-4f47-859d-3d26ace4be6d"
      },
      "source": [
        "from sklearn.linear_model import LinearRegression\n",
        "\n",
        "lin_reg = LinearRegression()\n",
        "lin_reg.fit(X_train, y_train)"
      ],
      "execution_count": 64,
      "outputs": [
        {
          "output_type": "execute_result",
          "data": {
            "text/plain": [
              "LinearRegression(copy_X=True, fit_intercept=True, n_jobs=None, normalize=False)"
            ]
          },
          "metadata": {
            "tags": []
          },
          "execution_count": 64
        }
      ]
    },
    {
      "cell_type": "code",
      "metadata": {
        "id": "ZUjMWN957bnR"
      },
      "source": [
        "X_test, y_test = test_set[['median_income', 'total_rooms']], test_set['median_house_value']\n",
        "X_test = np.array(X_test)\n",
        "y_test = np.array(y_test)"
      ],
      "execution_count": 66,
      "outputs": []
    },
    {
      "cell_type": "code",
      "metadata": {
        "id": "9YEGVGQq5vg5",
        "colab": {
          "base_uri": "https://localhost:8080/"
        },
        "outputId": "712dc3d3-5bb6-4661-8f11-7b636917165b"
      },
      "source": [
        "lin_reg.predict(X_test)"
      ],
      "execution_count": 67,
      "outputs": [
        {
          "output_type": "execute_result",
          "data": {
            "text/plain": [
              "array([115063.02828707, 150508.05903646, 190185.37683414, ...,\n",
              "       431458.75452442, 161227.07363911, 193540.13838055])"
            ]
          },
          "metadata": {
            "tags": []
          },
          "execution_count": 67
        }
      ]
    },
    {
      "cell_type": "code",
      "metadata": {
        "id": "PK8kUzHt53uS",
        "colab": {
          "base_uri": "https://localhost:8080/"
        },
        "outputId": "876eb3b5-5d04-4aa5-fab5-41be58cbbac0"
      },
      "source": [
        "from sklearn.metrics import mean_squared_error\n",
        "\n",
        "y_pred = lin_reg.predict(X_test)\n",
        "y_true = y_test\n",
        "mse = mean_squared_error(y_true, y_pred)\n",
        "rmse = np.sqrt(mse)\n",
        "rmse"
      ],
      "execution_count": 68,
      "outputs": [
        {
          "output_type": "execute_result",
          "data": {
            "text/plain": [
              "84210.3094307468"
            ]
          },
          "metadata": {
            "tags": []
          },
          "execution_count": 68
        }
      ]
    },
    {
      "cell_type": "code",
      "metadata": {
        "id": "PLmHpJQN5-2f",
        "colab": {
          "base_uri": "https://localhost:8080/"
        },
        "outputId": "31c56790-efa0-4d93-fe64-826ecc1832c8"
      },
      "source": [
        "from sklearn.metrics import mean_absolute_error\n",
        "\n",
        "y_pred = lin_reg.predict(X_test)\n",
        "y_true = y_test\n",
        "mae = mean_absolute_error(y_true, y_pred)\n",
        "mae"
      ],
      "execution_count": 69,
      "outputs": [
        {
          "output_type": "execute_result",
          "data": {
            "text/plain": [
              "62987.5275786113"
            ]
          },
          "metadata": {
            "tags": []
          },
          "execution_count": 69
        }
      ]
    },
    {
      "cell_type": "markdown",
      "metadata": {
        "id": "4Wmo7Fst8TfJ"
      },
      "source": [
        "# Lasso, Ridge"
      ]
    },
    {
      "cell_type": "code",
      "metadata": {
        "colab": {
          "base_uri": "https://localhost:8080/"
        },
        "id": "oASTAZ-o8Vnc",
        "outputId": "3b2b39d4-77de-4eb2-ff2f-e6e8622f8e65"
      },
      "source": [
        "from sklearn.linear_model import Lasso\n",
        "\n",
        "clf = Lasso()\n",
        "clf.fit(X_train, y_train)"
      ],
      "execution_count": 70,
      "outputs": [
        {
          "output_type": "execute_result",
          "data": {
            "text/plain": [
              "Lasso(alpha=1.0, copy_X=True, fit_intercept=True, max_iter=1000,\n",
              "      normalize=False, positive=False, precompute=False, random_state=None,\n",
              "      selection='cyclic', tol=0.0001, warm_start=False)"
            ]
          },
          "metadata": {
            "tags": []
          },
          "execution_count": 70
        }
      ]
    },
    {
      "cell_type": "code",
      "metadata": {
        "id": "dK5ErBd688bn"
      },
      "source": [
        "X_test, y_test = test_set[['median_income', 'total_rooms']], test_set['median_house_value']\n",
        "X_test = np.array(X_test)\n",
        "y_test = np.array(y_test)"
      ],
      "execution_count": 73,
      "outputs": []
    },
    {
      "cell_type": "code",
      "metadata": {
        "colab": {
          "base_uri": "https://localhost:8080/"
        },
        "id": "2sqVQMJe9Fd2",
        "outputId": "0539c392-075e-41f4-c1e4-ed846e7250c7"
      },
      "source": [
        "lin_reg.predict(X_test)"
      ],
      "execution_count": 74,
      "outputs": [
        {
          "output_type": "execute_result",
          "data": {
            "text/plain": [
              "array([115063.02828707, 150508.05903646, 190185.37683414, ...,\n",
              "       431458.75452442, 161227.07363911, 193540.13838055])"
            ]
          },
          "metadata": {
            "tags": []
          },
          "execution_count": 74
        }
      ]
    },
    {
      "cell_type": "code",
      "metadata": {
        "colab": {
          "base_uri": "https://localhost:8080/"
        },
        "id": "mejqSJ3c9ZoL",
        "outputId": "3d3e3a18-1659-41bc-e5d0-f08848ef5d10"
      },
      "source": [
        "from sklearn.linear_model import Ridge\n",
        "\n",
        "clf = Ridge()\n",
        "clf.fit(X_train, y_train)"
      ],
      "execution_count": 78,
      "outputs": [
        {
          "output_type": "execute_result",
          "data": {
            "text/plain": [
              "Ridge(alpha=1.0, copy_X=True, fit_intercept=True, max_iter=None,\n",
              "      normalize=False, random_state=None, solver='auto', tol=0.001)"
            ]
          },
          "metadata": {
            "tags": []
          },
          "execution_count": 78
        }
      ]
    },
    {
      "cell_type": "code",
      "metadata": {
        "id": "UBbBpKk49aLY"
      },
      "source": [
        "X_test, y_test = test_set[['median_income', 'total_rooms']], test_set['median_house_value']\n",
        "X_test = np.array(X_test)\n",
        "y_test = np.array(y_test)"
      ],
      "execution_count": 79,
      "outputs": []
    },
    {
      "cell_type": "code",
      "metadata": {
        "colab": {
          "base_uri": "https://localhost:8080/"
        },
        "id": "DEb6Glw99bOV",
        "outputId": "cdbe687e-25e4-48cc-f775-dce1769a1527"
      },
      "source": [
        "lin_reg.predict(X_test)"
      ],
      "execution_count": 80,
      "outputs": [
        {
          "output_type": "execute_result",
          "data": {
            "text/plain": [
              "array([115063.02828707, 150508.05903646, 190185.37683414, ...,\n",
              "       431458.75452442, 161227.07363911, 193540.13838055])"
            ]
          },
          "metadata": {
            "tags": []
          },
          "execution_count": 80
        }
      ]
    },
    {
      "cell_type": "markdown",
      "metadata": {
        "id": "XdxZoOSj-hym"
      },
      "source": [
        "## K-neighbor Regression"
      ]
    },
    {
      "cell_type": "code",
      "metadata": {
        "colab": {
          "base_uri": "https://localhost:8080/"
        },
        "id": "TjbaofIv-k_j",
        "outputId": "7ead4f8c-9a0d-4a74-f5a9-7d9af4513933"
      },
      "source": [
        "from sklearn.neighbors import KNeighborsRegressor\n",
        "neigh = KNeighborsRegressor(n_neighbors=3)\n",
        "neigh.fit(X_train, y_train)\n"
      ],
      "execution_count": 90,
      "outputs": [
        {
          "output_type": "execute_result",
          "data": {
            "text/plain": [
              "KNeighborsRegressor(algorithm='auto', leaf_size=30, metric='minkowski',\n",
              "                    metric_params=None, n_jobs=None, n_neighbors=3, p=2,\n",
              "                    weights='uniform')"
            ]
          },
          "metadata": {
            "tags": []
          },
          "execution_count": 90
        }
      ]
    },
    {
      "cell_type": "code",
      "metadata": {
        "colab": {
          "base_uri": "https://localhost:8080/"
        },
        "id": "EmM_Ck-G-p28",
        "outputId": "2ab41f1c-37b5-4c08-c680-19b0a0fb584b"
      },
      "source": [
        "X_test, y_test = test_set[['median_income', 'total_rooms']], test_set['median_house_value']\n",
        "X_test = np.array(X_test)\n",
        "y_test = np.array(y_test)\n",
        "neigh.predict(X_test)"
      ],
      "execution_count": 91,
      "outputs": [
        {
          "output_type": "execute_result",
          "data": {
            "text/plain": [
              "array([103033.33333333, 165933.33333333, 195366.66666667, ...,\n",
              "       341166.66666667, 107866.66666667, 183666.66666667])"
            ]
          },
          "metadata": {
            "tags": []
          },
          "execution_count": 91
        }
      ]
    },
    {
      "cell_type": "code",
      "metadata": {
        "colab": {
          "base_uri": "https://localhost:8080/"
        },
        "id": "QY6oXb_y-uZM",
        "outputId": "62091772-41be-4e41-e0e3-51dace8e5676"
      },
      "source": [
        "y_pred = neigh.predict(X_test)\n",
        "y_true = y_test\n",
        "mse = mean_squared_error(y_true, y_pred)\n",
        "rmse = np.sqrt(mse)\n",
        "rmse"
      ],
      "execution_count": 92,
      "outputs": [
        {
          "output_type": "execute_result",
          "data": {
            "text/plain": [
              "103458.96152050768"
            ]
          },
          "metadata": {
            "tags": []
          },
          "execution_count": 92
        }
      ]
    },
    {
      "cell_type": "code",
      "metadata": {
        "colab": {
          "base_uri": "https://localhost:8080/"
        },
        "id": "KIB4YAoF-xsU",
        "outputId": "daaf813d-74e7-4abc-899f-a86567eb5cd1"
      },
      "source": [
        "y_pred = neigh.predict(X_test)\n",
        "y_true = y_test\n",
        "mae = mean_absolute_error(y_true, y_pred)\n",
        "mae"
      ],
      "execution_count": 93,
      "outputs": [
        {
          "output_type": "execute_result",
          "data": {
            "text/plain": [
              "78457.30886627907"
            ]
          },
          "metadata": {
            "tags": []
          },
          "execution_count": 93
        }
      ]
    }
  ]
}