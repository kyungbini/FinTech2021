{
  "nbformat": 4,
  "nbformat_minor": 0,
  "metadata": {
    "kernelspec": {
      "display_name": "Python 3",
      "language": "python",
      "name": "python3"
    },
    "language_info": {
      "codemirror_mode": {
        "name": "ipython",
        "version": 3
      },
      "file_extension": ".py",
      "mimetype": "text/x-python",
      "name": "python",
      "nbconvert_exporter": "python",
      "pygments_lexer": "ipython3",
      "version": "3.7.1"
    },
    "colab": {
      "name": "ML_day9.ipynb",
      "provenance": [],
      "collapsed_sections": []
    }
  },
  "cells": [
    {
      "cell_type": "markdown",
      "metadata": {
        "id": "LuzlU_r3NiKq"
      },
      "source": [
        "이 노트북을 구글 코랩(colab.research.google.com)에서 실행할 수 있습니다.\n",
        "\n",
        "<table class=\"tfo-notebook-buttons\" align=\"left\">\n",
        "  <td>\n",
        "    <a target=\"_blank\" href=\"https://colab.research.google.com/github/SLCFLAB/FinTech2021/blob/master/ML_day9.ipynb\"><img src=\"https://www.tensorflow.org/images/colab_logo_32px.png\" />구글 코랩(Colab)에서 실행하기</a>\n",
        "  </td>\n",
        "</table>"
      ]
    },
    {
      "cell_type": "markdown",
      "metadata": {
        "id": "dPLuz3N2T_-z"
      },
      "source": [
        "## Unconstrained Optimization - Optimization Algorithms"
      ]
    },
    {
      "cell_type": "code",
      "metadata": {
        "id": "o2qbq7uIT__B"
      },
      "source": [
        "import numpy as np\n",
        "import numdifftools as nd\n",
        "import copy\n",
        "import time"
      ],
      "execution_count": 6,
      "outputs": []
    },
    {
      "cell_type": "code",
      "metadata": {
        "colab": {
          "base_uri": "https://localhost:8080/"
        },
        "id": "AJe82pHLT__C",
        "outputId": "2fe605ad-5374-4290-e8b5-605b1eeedb1f"
      },
      "source": [
        "! pip install numdifftools"
      ],
      "execution_count": 2,
      "outputs": [
        {
          "output_type": "stream",
          "text": [
            "Collecting numdifftools\n",
            "\u001b[?25l  Downloading https://files.pythonhosted.org/packages/ab/c0/b0d967160ecc8db52ae34e063937d85e8d386f140ad4826aae2086245a5e/numdifftools-0.9.39-py2.py3-none-any.whl (953kB)\n",
            "\u001b[K     |████████████████████████████████| 962kB 5.4MB/s \n",
            "\u001b[?25hInstalling collected packages: numdifftools\n",
            "Successfully installed numdifftools-0.9.39\n"
          ],
          "name": "stdout"
        }
      ]
    },
    {
      "cell_type": "markdown",
      "metadata": {
        "id": "IufOT9RwT__C"
      },
      "source": [
        "## numdifftools 사용 방법"
      ]
    },
    {
      "cell_type": "code",
      "metadata": {
        "id": "6v6KxZ3HT__D"
      },
      "source": [
        "fun = lambda x : 4*x[1]**3+x[0]**2-12*x[1]**2-36*x[1]+2"
      ],
      "execution_count": 7,
      "outputs": []
    },
    {
      "cell_type": "code",
      "metadata": {
        "id": "rKK2SXieT__D"
      },
      "source": [
        "H = nd.Hessian(fun)"
      ],
      "execution_count": 8,
      "outputs": []
    },
    {
      "cell_type": "code",
      "metadata": {
        "colab": {
          "base_uri": "https://localhost:8080/"
        },
        "id": "1NTraH_aT__E",
        "outputId": "dec56aa8-ff08-4fd8-8ac5-82af6061e67b"
      },
      "source": [
        "H(np.array([1, 1]))"
      ],
      "execution_count": 9,
      "outputs": [
        {
          "output_type": "execute_result",
          "data": {
            "text/plain": [
              "array([[2., 0.],\n",
              "       [0., 0.]])"
            ]
          },
          "metadata": {
            "tags": []
          },
          "execution_count": 9
        }
      ]
    },
    {
      "cell_type": "code",
      "metadata": {
        "id": "Dv9tc3qAT__F"
      },
      "source": [
        "g = nd.Gradient(fun)"
      ],
      "execution_count": 10,
      "outputs": []
    },
    {
      "cell_type": "code",
      "metadata": {
        "colab": {
          "base_uri": "https://localhost:8080/"
        },
        "id": "v2EawW47T__G",
        "outputId": "e22a98fc-8fcf-4491-e32f-0f7d73ec6a3a"
      },
      "source": [
        "g([1,1])"
      ],
      "execution_count": 11,
      "outputs": [
        {
          "output_type": "execute_result",
          "data": {
            "text/plain": [
              "array([  2., -48.])"
            ]
          },
          "metadata": {
            "tags": []
          },
          "execution_count": 11
        }
      ]
    },
    {
      "cell_type": "markdown",
      "metadata": {
        "id": "6G_CpVxET__H"
      },
      "source": [
        "## Steepest Gradient"
      ]
    },
    {
      "cell_type": "code",
      "metadata": {
        "id": "PxKjk0hJT__H"
      },
      "source": [
        "def gradient_descent(fun, x0, step_length, max_iter=1000, epsilon=1e-3):\n",
        "    \n",
        "    fun = fun\n",
        "    x = copy.copy(x0)\n",
        "    \n",
        "    grad = nd.Gradient(fun)\n",
        "    \n",
        "    count = 0\n",
        "    for i in range(max_iter):\n",
        "        gradx = grad(x)\n",
        "        x -= step_length*gradx\n",
        "        count += 1\n",
        "        if np.linalg.norm(gradx)<epsilon:\n",
        "            break\n",
        "    return x, count"
      ],
      "execution_count": 12,
      "outputs": []
    },
    {
      "cell_type": "markdown",
      "metadata": {
        "id": "v95K29x0T__I"
      },
      "source": [
        "## Newton's Method"
      ]
    },
    {
      "cell_type": "code",
      "metadata": {
        "id": "mVPh6u5pT__I"
      },
      "source": [
        "def newton_method(fun, x0, max_iter=1000, epsilon=1e-3):\n",
        "    \n",
        "    fun = fun\n",
        "    x = copy.copy(x0)\n",
        "    \n",
        "    grad = nd.Gradient(fun)\n",
        "    hess = nd.Hessian(fun)\n",
        "    \n",
        "    count = 0\n",
        "    for i in range(max_iter):\n",
        "        gradx = grad(x)\n",
        "        hessx = hess(x)\n",
        "        hessx = np.linalg.inv(hessx)\n",
        "        x -= hessx.dot(gradx)\n",
        "        count += 1\n",
        "        if np.linalg.norm(gradx)<epsilon:\n",
        "            break\n",
        "    return x, count"
      ],
      "execution_count": 22,
      "outputs": []
    },
    {
      "cell_type": "markdown",
      "metadata": {
        "id": "K69A48csT__J"
      },
      "source": [
        "## Quasi-Newton (BFGS) Method"
      ]
    },
    {
      "cell_type": "code",
      "metadata": {
        "id": "e3JxiFq_T__J"
      },
      "source": [
        "def BFGS(fun, x0, step_length, max_iter=1000, epsilon=1e-3):\n",
        "    \n",
        "    fun = fun\n",
        "    x = copy.copy(x0)\n",
        "    H = np.eye(len(x))\n",
        "    grad = nd.Gradient(fun)\n",
        "    \n",
        "    count = 0\n",
        "    for i in range(max_iter):\n",
        "        gradx = grad(x)\n",
        "        x_new = x-step_length*H.dot(gradx)\n",
        "        count+=1\n",
        "        if np.linalg.norm(gradx)<epsilon:\n",
        "            break\n",
        "        \n",
        "        new_gradx = grad(x_new)\n",
        "        s = x_new-x\n",
        "        y = new_gradx-gradx\n",
        "        rho = 1/s.dot(y)\n",
        "        \n",
        "        H_new = (np.eye(len(x))-rho*np.dot(s.reshape(-1,1),y.reshape(1,-1))).dot(H)\n",
        "        H_new = H_new.dot(np.eye(len(x))-rho*np.dot(y.reshape(-1,1),s.reshape(1,-1)))\n",
        "        H_new = H_new+rho*np.dot(s.reshape(-1,1), s.reshape(1,-1))\n",
        "        \n",
        "        x = x_new\n",
        "        H = H_new\n",
        "        \n",
        "    return x, count        "
      ],
      "execution_count": 23,
      "outputs": []
    },
    {
      "cell_type": "code",
      "metadata": {
        "colab": {
          "base_uri": "https://localhost:8080/"
        },
        "id": "3OxVH4NKT__J",
        "outputId": "20682aad-a3fa-4a6b-f1bf-c36edd4d5137"
      },
      "source": [
        "for step_length in range(10):\n",
        "    print(gradient_descent(fun, np.array([1., 2.]), 0.01*(1+step_length)))"
      ],
      "execution_count": 24,
      "outputs": [
        {
          "output_type": "stream",
          "text": [
            "(array([4.82454778e-04, 3.00000000e+00]), 378)\n",
            "(array([4.64506517e-04, 3.00000000e+00]), 188)\n",
            "(array([4.65429436e-04, 3.00000000e+00]), 124)\n",
            "(array([4.51376850e-05, 2.99998237e+00]), 120)\n",
            "(array([3.58185260e-13, 1.56112507e+00]), 1000)\n",
            "(array([ 7.85708841e-15, -1.82782810e-01]), 1000)\n",
            "(array([ 4.04802017e-01, -1.10893227e+31]), 9)\n",
            "(array([ 4.18211936e-01, -2.95399489e+26]), 8)\n",
            "(array([ 3.70559624e-01, -1.80954158e+17]), 7)\n",
            "(array([ 4.09599983e-01, -3.79398461e+20]), 7)\n"
          ],
          "name": "stdout"
        }
      ]
    },
    {
      "cell_type": "code",
      "metadata": {
        "scrolled": false,
        "colab": {
          "base_uri": "https://localhost:8080/"
        },
        "id": "3ywBJa3dT__K",
        "outputId": "d6fa7875-231c-41e9-9f35-93626f33c3f8"
      },
      "source": [
        "for step_length in range(20):\n",
        "    print(BFGS(fun, np.array([1.,2.]), 0.01*(1+step_length)))"
      ],
      "execution_count": 25,
      "outputs": [
        {
          "output_type": "stream",
          "text": [
            "(array([4.23599087e-05, 2.99997670e+00]), 1000)\n",
            "(array([7.37418006e-05, 2.99997981e+00]), 470)\n",
            "(array([2.09734529e-04, 3.00001853e+00]), 277)\n",
            "(array([3.70717849e-05, 3.00002014e+00]), 249)\n",
            "(array([1.81133590e-05, 3.00001993e+00]), 212)\n",
            "(array([1.14672599e-05, 3.00002032e+00]), 183)\n",
            "(array([7.92261924e-06, 3.00002037e+00]), 161)\n",
            "(array([5.67831661e-06, 3.00001995e+00]), 144)\n",
            "(array([4.35909048e-06, 3.00002012e+00]), 130)\n",
            "(array([3.26325661e-06, 3.00001926e+00]), 119)\n",
            "(array([2.73241687e-06, 3.00002021e+00]), 109)\n",
            "(array([2.18479473e-06, 3.00001995e+00]), 101)\n",
            "(array([1.79628514e-06, 3.00002001e+00]), 94)\n",
            "(array([1.47060095e-06, 3.00001981e+00]), 88)\n",
            "(array([1.16007708e-06, 3.00001877e+00]), 83)\n",
            "(array([1.01494742e-06, 3.00001963e+00]), 78)\n",
            "(array([8.18534468e-07, 3.00001886e+00]), 74)\n",
            "(array([7.16543755e-07, 3.00001963e+00]), 70)\n",
            "(array([5.51948380e-07, 3.00001797e+00]), 67)\n",
            "(array([4.50865472e-07, 3.00001746e+00]), 64)\n"
          ],
          "name": "stdout"
        }
      ]
    },
    {
      "cell_type": "code",
      "metadata": {
        "colab": {
          "base_uri": "https://localhost:8080/"
        },
        "id": "zqp4hvrVT__L",
        "outputId": "458d95d6-d629-459a-ee3e-a6054e3b6ae9"
      },
      "source": [
        "newton_method(fun, np.array([1.,2.]))"
      ],
      "execution_count": 26,
      "outputs": [
        {
          "output_type": "execute_result",
          "data": {
            "text/plain": [
              "(array([0., 3.]), 5)"
            ]
          },
          "metadata": {
            "tags": []
          },
          "execution_count": 26
        }
      ]
    },
    {
      "cell_type": "code",
      "metadata": {
        "colab": {
          "base_uri": "https://localhost:8080/"
        },
        "id": "Yf1ElH7mT__O",
        "outputId": "aedc6298-f0ae-441a-cf70-c298e616c7df"
      },
      "source": [
        "BFGS(fun, np.array([1.,2.]), 1)"
      ],
      "execution_count": 27,
      "outputs": [
        {
          "output_type": "execute_result",
          "data": {
            "text/plain": [
              "(array([6.53343082e-06, 3.00000021e+00]), 9)"
            ]
          },
          "metadata": {
            "tags": []
          },
          "execution_count": 27
        }
      ]
    },
    {
      "cell_type": "code",
      "metadata": {
        "colab": {
          "base_uri": "https://localhost:8080/"
        },
        "id": "1-GxJ-tTT__P",
        "outputId": "bc402142-d957-4ba7-f6f0-1397a74f0e27"
      },
      "source": [
        "start = time.time()\n",
        "newton_method(fun, np.array([1.,2.]))\n",
        "end = time.time()\n",
        "end-start"
      ],
      "execution_count": 28,
      "outputs": [
        {
          "output_type": "execute_result",
          "data": {
            "text/plain": [
              "0.04624629020690918"
            ]
          },
          "metadata": {
            "tags": []
          },
          "execution_count": 28
        }
      ]
    },
    {
      "cell_type": "code",
      "metadata": {
        "colab": {
          "base_uri": "https://localhost:8080/"
        },
        "id": "AjyYTr_IT__Q",
        "outputId": "ade15326-4ff6-49d7-ae62-58176e7d2fba"
      },
      "source": [
        "start = time.time()\n",
        "BFGS(fun, np.array([1.,2.]), 1)\n",
        "end = time.time()\n",
        "end-start"
      ],
      "execution_count": 29,
      "outputs": [
        {
          "output_type": "execute_result",
          "data": {
            "text/plain": [
              "0.06396031379699707"
            ]
          },
          "metadata": {
            "tags": []
          },
          "execution_count": 29
        }
      ]
    },
    {
      "cell_type": "code",
      "metadata": {
        "id": "eMEegcUSVyp0"
      },
      "source": [
        ""
      ],
      "execution_count": null,
      "outputs": []
    }
  ]
}
